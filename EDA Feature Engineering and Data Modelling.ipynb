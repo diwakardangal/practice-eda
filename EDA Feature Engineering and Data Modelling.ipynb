# import default libraries
import pandas as pd
import numpy as np
pd.set_option("display.max_columns", None)

# for visualization
import seaborn as sns
import matplotlib.pyplot as plt

# import ML libraries
from sklearn.svm import SVR
from sklearn.tree import DecisionTreeRegressor
from sklearn.ensemble import GradientBoostingRegressor
from sklearn.ensemble import RandomForestRegressor
from sklearn.ensemble import BaggingRegressor
import xgboost as xgb
from sklearn.model_selection import GridSearchCV
from sklearn.model_selection import train_test_split

# deep learning
import tensorflow as tf
from tensorflow.keras.models import Sequential
from tensorflow.keras.layers import GRU, Dense, Dropout, LSTM

# scaling
from sklearn.preprocessing import StandardScaler

# for evaluation
from sklearn.metrics import mean_squared_error, r2_score, mean_absolute_error, mean_squared_log_error

# ignore warning
import warnings
warnings.filterwarnings("ignore")

# Load the test data and see the top 3 rows
df_test = pd.read_csv('test.csv')
df_test.head(3)

# Load the train data and see the top 3 rows
df_train = pd.read_csv('train.csv' )
df_train.head(3)

import missingno as msno
import matplotlib.pyplot as plt

# Customize color codes
msno.matrix(df_train, color=(0.51, 0.57, 0.44),
            fontsize=12,
            sparkline=False)

# Add a title or customize the layout further
plt.title("Missing Values Matrix")
plt.show()

# check the information about train dataset
df_train.info()

# Convert datetime column to datetime type for train data
df_train['datetime'] = pd.to_datetime(df_train['datetime'])

# Convert datetime column to datetime type for test data
df_test['datetime'] = pd.to_datetime(df_test['datetime'])

# Extract year, month, day, and hour from the datetime column from train data
df_train['year'] = df_train['datetime'].dt.year
df_train['month'] = df_train['datetime'].dt.month
df_train['day'] = df_train['datetime'].dt.day
df_train['hour'] = df_train['datetime'].dt.hour

# Extract year, month, day, and hour from the datetime column from test data
df_test['year'] = df_test['datetime'].dt.year
df_test['month'] = df_test['datetime'].dt.month
df_test['day'] = df_test['datetime'].dt.day
df_test['hour'] = df_test['datetime'].dt.hour

import pandas as pd

# Assuming your datetime column is named 'datetime' and your dataset is df_train
df_train['datetime'] = pd.to_datetime(df_train['datetime'])
df_train['hour'] = df_train['datetime'].dt.hour
df_train['day'] = df_train['datetime'].dt.day
df_train['month'] = df_train['datetime'].dt.month
df_train['year'] = df_train['datetime'].dt.year

#univariate Analysis
import matplotlib.pyplot as plt
import seaborn as sns

# Distribution of total bike rentals
plt.figure(figsize=(12, 6))
sns.histplot(df_train['count'], kde=True)
plt.title('Distribution of Total Bike Rentals')
plt.xlabel('Total Bike Rentals')
plt.ylabel('Frequency')
plt.show()
plt.figure(figsize=(20,15))
plt.subplot(421)
all_df['season'].plot.hist(bins=10, color='blue', label='Histogram of Season', edgecolor='black')
plt.legend(loc='best')
plt.subplot(422)
all_df['weather'].plot.hist(bins=10, color='green', label='Histogram of Weather', edgecolor='black')
plt.legend(loc='best')
plt.subplot(423)
all_df['humidity'].plot.hist(bins=10, color='orange', label='Histogram of Humidity', edgecolor='black')
plt.legend(loc='best')
plt.subplot(424)
all_df['holiday'].plot.hist(bins=10, color='pink', label='Histogram of Holiday', edgecolor='black')
plt.legend(loc='best')
plt.subplot(425)
all_df['workingday'].plot.hist(bins=10, color='red', label='Histogram of Working Day', edgecolor='black')
plt.legend(loc='best')
plt.subplot(426)
all_df['temp'].plot.hist(bins=10, color='yellow', label='Histogram of Temperature', edgecolor='black')
plt.legend(loc='best')
plt.subplot(427)
all_df['atemp'].plot.hist(bins=10, color='cyan', label='Histogram of Feels Like Temp', edgecolor='black')
plt.legend(loc='best')
plt.subplot(428)

# rentals by hour, split by working day (or not)
by_hour.plot(kind='bar', figsize=(15,5), width=0.8);
plt.grid(True)
plt.tight_layout();

# Workingday distribution
fig, ax = plt.subplots(figsize=(4, 5))
ax = sns.countplot(x='workingday', data=df_train,
                   palette = ['#4287f5', '#f03607'])
ax.set_title('Workingday Distribution')
ax.set_xticklabels(['No', 'Yes'])

# Remove the frame
ax.spines['top'].set_visible(False)
ax.spines['right'].set_visible(False)
ax.spines['left'].set_visible(False)

# Add the values on top of the bars
for p in ax.patches:
    ax.annotate(f'{p.get_height()}', (p.get_x() + p.get_width() / 2., p.get_height()), ha='center', va='center',
                xytext=(0, 5), textcoords='offset points', fontsize=10)
ax.set_ylabel('Count of Day')
ax.set_xlabel('Working Day')
ax.set_yticklabels([])
ax.set_title('Workingday Distribution')
ax.grid(False)
plt.xticks(rotation=0)
plt.show()
