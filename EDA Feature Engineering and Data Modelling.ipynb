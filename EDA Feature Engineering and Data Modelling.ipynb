
#D:\self project\archive (1)
# This Python 3 environment comes with many helpful analytics libraries installed
# It is defined by the kaggle/python docker image: https://github.com/kaggle/docker-python
# For example, here's several helpful packages to load in 

import numpy as np # linear algebra
import pandas as pd # data processing, CSV file I/O (e.g. pd.read_csv)
# import libraries for plotting
import matplotlib.pyplot as plt
import seaborn as sns
%matplotlib inline

# Input data files are available in the "../input/" directory.
# For example, running this (by clicking run or pressing Shift+Enter) will list all files under the input directory

import os
#for dirname, _, filenames in os.walk('/kaggle/input'):
    #for filename in filenames:
        #print(os.path.join(dirname, filename))

# Any results you write to the current directory are saved as output.
import warnings

warnings.filterwarnings('ignore')

df=pd.read_csv('C:\Users\danga\OneDrive\Desktop/weatherAUS.csv')
#D:\self project\archive (1)
df=pd.read_csv('D:\self project\archive (1)\weatherAUS.csv')
df.head(100)


#Casual and Register user workign day distribution
df_long = pd.melt(df_train, id_vars=['workingday'], value_vars=['casual', 'registered'], var_name='User Type', value_name='Count')

# Plot
plt.figure(figsize=(5, 6))
ax = sns.barplot(data=df_long, x='workingday', y='Count', hue='User Type', palette=['#42f557', '#4287f5'])
ax.set_title('Workingday Distribution for Casual and Registered Users')
ax.set_xticklabels(['No', 'Yes'])
ax.set_ylabel('Count of Rentals')
ax.set_xlabel('Working Day')
ax.spines['top'].set_visible(False)
ax.spines['right'].set_visible(False)
ax.spines['left'].set_visible(False)

plt.legend(title='User Type', ncol = 2, frameon = False)
plt.show()

# Plot
plt.figure(figsize=(5, 6))
ax = sns.barplot(data=df_long, x='workingday', y='Count', hue='User Type', palette=['#42f557', '#4287f5'])
ax.set_title('Distribution of registers and casual users')
ax.set_xticklabels(['No', 'Yes'])
ax.set_ylabel('Count of Rentals')
ax.set_xlabel('Working Day')
ax.spines['top'].set_visible(False)
ax.spines['right'].set_visible(False)
ax.spines['left'].set_visible(False)

plt.legend(title='User Type', ncol = 2, frameon = False)
plt.show()

# boxplots for numerical columns to check for outliers
numerical_columns = df_train.select_dtypes(include=[np.number]).columns
sns.set_palette("pastel")
fig, axes = plt.subplots(4, 4, figsize=(20, 15))
axes = axes.flatten()

# Each numerical column in a subplot
for idx, col in enumerate(numerical_columns):
    sns.boxplot(x=df_train[col], ax=axes[idx], color='skyblue')
    axes[idx].set_title(col)
    axes[idx].set_xlabel("")
    axes[idx].set_ylabel("Value")
axes[15].set_visible(False)

plt.suptitle("Boxplots for Numerical Columns (Check for Outliers)", fontsize=16)
plt.tight_layout(rect=[0, 0.03, 1, 0.95])
plt.show()

# Holiday distribution using seaborn with colors

fig, ax = plt.subplots(figsize=(4, 5))
ax = sns.countplot(x='holiday', data=df_train, palette=['#42f557', '#4287f5'] , ax=ax)
ax.set_title('Holiday Distribution')
ax.set_xticklabels(['No', 'Yes'])

# Remove the frame
ax.spines['top'].set_visible(False)
ax.spines['right'].set_visible(False)
ax.spines['left'].set_visible(False)

# Add the values on top of the bars
for p in ax.patches:
    ax.annotate(f'{p.get_height()}', (p.get_x() + p.get_width() / 2., p.get_height()), ha = 'center', va = 'center',
                xytext = (0, 5), textcoords = 'offset points', fontsize = 11)

ax.set_ylabel('Count of Day')
ax.set_xlabel('Holiday')
ax.set_yticklabels([])
ax.set_title('Holiday Distribution')
ax.grid(False)
plt.xticks(rotation=0)
plt.show()


import missingno as msno
import matplotlib.pyplot as plt

# Customize color codes
msno.matrix(df_train, color=(0.51, 0.57, 0.44),
            fontsize=12,
            sparkline=False)

# Add a title or customize the layout further
plt.title("Missing Values Matrix")
plt.show()

