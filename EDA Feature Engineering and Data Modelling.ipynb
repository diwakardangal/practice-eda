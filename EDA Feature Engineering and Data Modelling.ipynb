# import default libraries
import pandas as pd
import numpy as np
pd.set_option("display.max_columns", None)

# for visualization
import seaborn as sns
import matplotlib.pyplot as plt

# import ML libraries
from sklearn.svm import SVR
from sklearn.tree import DecisionTreeRegressor
from sklearn.ensemble import GradientBoostingRegressor
from sklearn.ensemble import RandomForestRegressor
from sklearn.ensemble import BaggingRegressor
import xgboost as xgb
from sklearn.model_selection import GridSearchCV
from sklearn.model_selection import train_test_split

# deep learning
import tensorflow as tf
from tensorflow.keras.models import Sequential
from tensorflow.keras.layers import GRU, Dense, Dropout, LSTM

# scaling
from sklearn.preprocessing import StandardScaler

# for evaluation
from sklearn.metrics import mean_squared_error, r2_score, mean_absolute_error, mean_squared_log_error

# ignore warning
import warnings
warnings.filterwarnings("ignore")

# Load the test data and see the top 3 rows
df_test = pd.read_csv('test.csv')
df_test.head(3)

# Load the train data and see the top 3 rows
df_train = pd.read_csv('train.csv' )
df_train.head(3)

import missingno as msno
import matplotlib.pyplot as plt

# Customize color codes
msno.matrix(df_train, color=(0.51, 0.57, 0.44),
            fontsize=12,
            sparkline=False)

# Add a title or customize the layout further
plt.title("Missing Values Matrix")
plt.show()

# check the information about train dataset
df_train.info()

# Convert datetime column to datetime type for train data
df_train['datetime'] = pd.to_datetime(df_train['datetime'])

# Convert datetime column to datetime type for test data
df_test['datetime'] = pd.to_datetime(df_test['datetime'])

# Extract year, month, day, and hour from the datetime column from train data
df_train['year'] = df_train['datetime'].dt.year
df_train['month'] = df_train['datetime'].dt.month
df_train['day'] = df_train['datetime'].dt.day
df_train['hour'] = df_train['datetime'].dt.hour

# Extract year, month, day, and hour from the datetime column from test data
df_test['year'] = df_test['datetime'].dt.year
df_test['month'] = df_test['datetime'].dt.month
df_test['day'] = df_test['datetime'].dt.day
df_test['hour'] = df_test['datetime'].dt.hour

import pandas as pd

# Assuming your datetime column is named 'datetime' and your dataset is df_train
df_train['datetime'] = pd.to_datetime(df_train['datetime'])
df_train['hour'] = df_train['datetime'].dt.hour
df_train['day'] = df_train['datetime'].dt.day
df_train['month'] = df_train['datetime'].dt.month
df_train['year'] = df_train['datetime'].dt.year
