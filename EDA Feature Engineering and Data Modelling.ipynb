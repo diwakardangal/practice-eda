# import default libraries
import pandas as pd
import numpy as np
pd.set_option("display.max_columns", None)

# for visualization
import seaborn as sns
import matplotlib.pyplot as plt

# import ML libraries
from sklearn.svm import SVR
from sklearn.tree import DecisionTreeRegressor
from sklearn.ensemble import GradientBoostingRegressor
from sklearn.ensemble import RandomForestRegressor
from sklearn.ensemble import BaggingRegressor
import xgboost as xgb
from sklearn.model_selection import GridSearchCV
from sklearn.model_selection import train_test_split

# deep learning
import tensorflow as tf
from tensorflow.keras.models import Sequential
from tensorflow.keras.layers import GRU, Dense, Dropout, LSTM

# scaling
from sklearn.preprocessing import StandardScaler

# for evaluation
from sklearn.metrics import mean_squared_error, r2_score, mean_absolute_error, mean_squared_log_error

# ignore warning
import warnings
warnings.filterwarnings("ignore")
