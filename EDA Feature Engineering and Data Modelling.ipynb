
#D:\self project\archive (1)
# This Python 3 environment comes with many helpful analytics libraries installed
# It is defined by the kaggle/python docker image: https://github.com/kaggle/docker-python
# For example, here's several helpful packages to load in 

import numpy as np # linear algebra
import pandas as pd # data processing, CSV file I/O (e.g. pd.read_csv)
# import libraries for plotting
import matplotlib.pyplot as plt
import seaborn as sns
%matplotlib inline

# Input data files are available in the "../input/" directory.
# For example, running this (by clicking run or pressing Shift+Enter) will list all files under the input directory

import os
#for dirname, _, filenames in os.walk('/kaggle/input'):
    #for filename in filenames:
        #print(os.path.join(dirname, filename))

# Any results you write to the current directory are saved as output.
import warnings

warnings.filterwarnings('ignore')

df=pd.read_csv('C:\Users\danga\OneDrive\Desktop/weatherAUS.csv')
#D:\self project\archive (1)
df=pd.read_csv('D:\self project\archive (1)\weatherAUS.csv')
df.head(10)
df=pd.read_csv('D:\self project\archive (1)\weatherAUS.csv')
df.head(10)


